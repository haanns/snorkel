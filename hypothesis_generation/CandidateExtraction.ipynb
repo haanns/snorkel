{
 "cells": [
  {
   "cell_type": "markdown",
   "metadata": {},
   "source": [
    "# Extract hypothesis candidates from sentences\n",
    "### We focus only a subset of documents for which the full body is available"
   ]
  },
  {
   "cell_type": "code",
   "execution_count": 30,
   "metadata": {
    "collapsed": false
   },
   "outputs": [
    {
     "name": "stdout",
     "output_type": "stream",
     "text": [
      "The autoreload extension is already loaded. To reload it, use:\n",
      "  %reload_ext autoreload\n"
     ]
    }
   ],
   "source": [
    "%load_ext autoreload\n",
    "%autoreload 2\n",
    "\n",
    "import cPickle, os, sys\n",
    "sys.path.insert(1, os.path.join(sys.path[0], '..'))\n",
    "\n",
    "from ddlite import *\n",
    "from spacy.en import English\n",
    "nlp = English()\n",
    "\n",
    "from NounPhraseExtractor import *\n",
    "from HypothesesCandidates import *\n",
    "\n",
    "# init database handler\n",
    "dbHandler = DatabaseHandler('database.ini')\n",
    "\n",
    "# grab sentences from DB\n",
    "sents = dbHandler.get_random_sentences(table='keyword_matched_sentences',count=1000)\n",
    "keywords = dbHandler.get_doc_keywords()"
   ]
  },
  {
   "cell_type": "code",
   "execution_count": 31,
   "metadata": {
    "collapsed": false
   },
   "outputs": [],
   "source": [
    "# init NounPhrase Extractor\n",
    "Treatment_Extr = SentDictionaryMatch(label='Keyword1', dictionary=keywords, ignore_case=False)\n",
    "Outcome_Extr = SentDictionaryMatch(label='Keyword2', dictionary=keywords, ignore_case=False)"
   ]
  },
  {
   "cell_type": "code",
   "execution_count": 32,
   "metadata": {
    "collapsed": false
   },
   "outputs": [],
   "source": [
    "# extract cross-product of noun-phrases from valid sentences\n",
    "hypotheses = HypothesesCandidates(sents, Treatment_Extr, Outcome_Extr)"
   ]
  },
  {
   "cell_type": "code",
   "execution_count": 33,
   "metadata": {
    "collapsed": false
   },
   "outputs": [
    {
     "data": {
      "text/html": [
       "<style>\n",
       ".node {\n",
       "  cursor: pointer;\n",
       "}\n",
       "\n",
       ".node circle {\n",
       "  fill: #fff;\n",
       "  stroke: steelblue;\n",
       "  stroke-width: 3px;\n",
       "}\n",
       "\n",
       ".node text {\n",
       "  font: 12px sans-serif;\n",
       "}\n",
       "\n",
       ".edge {\n",
       "  fill: none;\n",
       "  stroke: #ccc;\n",
       "  stroke-width: 2px;\n",
       "  cursor: pointer;\n",
       "}\n",
       "\n",
       ".highlight {\n",
       "  stroke: red;\n",
       "  stroke-width: 3px;\n",
       "}\n",
       "</style>\n",
       "\n",
       "<!--Provide the canvas id (twice) and the words via python string formatting here--!>\n",
       "<div id=\"tree-chart-3867073345542442847\"></div>\n",
       "<div id=\"raw-seq-3867073345542442847\">\n",
       "<span class=\"word-3867073345542442847-0\">Our</span> <span class=\"word-3867073345542442847-1\">reassessment</span> <span class=\"word-3867073345542442847-2\">of</span> <span class=\"word-3867073345542442847-3\">the</span> <span class=\"word-3867073345542442847-4\">association</span> <span class=\"word-3867073345542442847-5\">of</span> <span class=\"word-3867073345542442847-6\">the</span> <span class=\"word-3867073345542442847-7\">OriB</span> <span class=\"word-3867073345542442847-8\">variant</span> <span class=\"word-3867073345542442847-9\">with</span> <span class=\"word-3867073345542442847-10\">type</span> <span class=\"word-3867073345542442847-11\">2</span> <span class=\"word-3867073345542442847-12\">diabetes</span> <span class=\"word-3867073345542442847-13\">used</span> <span class=\"word-3867073345542442847-14\">the</span> <span class=\"word-3867073345542442847-15\">following</span> <span class=\"word-3867073345542442847-16\">approach</span> <span class=\"word-3867073345542442847-17\">to</span> <span class=\"word-3867073345542442847-18\">maximise</span> <span class=\"word-3867073345542442847-19\">power</span> <span class=\"word-3867073345542442847-20\">and</span> <span class=\"word-3867073345542442847-21\">minimise</span> <span class=\"word-3867073345542442847-22\">bias</span> <span class=\"word-3867073345542442847-23\">:</span> <span class=\"word-3867073345542442847-24\">(</span> <span class=\"word-3867073345542442847-25\">1</span> <span class=\"word-3867073345542442847-26\">)</span> <span class=\"word-3867073345542442847-27\">we</span> <span class=\"word-3867073345542442847-28\">investigated</span> <span class=\"word-3867073345542442847-29\">the</span> <span class=\"word-3867073345542442847-30\">association</span> <span class=\"word-3867073345542442847-31\">between</span> <span class=\"word-3867073345542442847-32\">the</span> <span class=\"word-3867073345542442847-33\">OriB</span> <span class=\"word-3867073345542442847-34\">variant</span> <span class=\"word-3867073345542442847-35\">and</span> <span class=\"word-3867073345542442847-36\">type</span> <span class=\"word-3867073345542442847-37\">2</span> <span class=\"word-3867073345542442847-38\">diabetes</span> <span class=\"word-3867073345542442847-39\">in</span> <span class=\"word-3867073345542442847-40\">a</span> <span class=\"word-3867073345542442847-41\">large</span> <span class=\"word-3867073345542442847-42\">European</span> <span class=\"word-3867073345542442847-43\">population</span> <span class=\"word-3867073345542442847-44\">(</span> <span class=\"word-3867073345542442847-45\">the</span> <span class=\"word-3867073345542442847-46\">Norfolk</span> <span class=\"word-3867073345542442847-47\">Diabetes</span> <span class=\"word-3867073345542442847-48\">Case</span> <span class=\"word-3867073345542442847-49\">--</span> <span class=\"word-3867073345542442847-50\">Control</span> <span class=\"word-3867073345542442847-51\">Study</span> <span class=\"word-3867073345542442847-52\">)</span> <span class=\"word-3867073345542442847-53\">,</span> <span class=\"word-3867073345542442847-54\">which</span> <span class=\"word-3867073345542442847-55\">included</span> <span class=\"word-3867073345542442847-56\">5,574</span> <span class=\"word-3867073345542442847-57\">type</span> <span class=\"word-3867073345542442847-58\">2</span> <span class=\"word-3867073345542442847-59\">diabetes</span> <span class=\"word-3867073345542442847-60\">cases</span> <span class=\"word-3867073345542442847-61\">and</span> <span class=\"word-3867073345542442847-62\">6,950</span> <span class=\"word-3867073345542442847-63\">healthy</span> <span class=\"word-3867073345542442847-64\">controls</span> <span class=\"word-3867073345542442847-65\">;</span> <span class=\"word-3867073345542442847-66\">and</span> <span class=\"word-3867073345542442847-67\">(</span> <span class=\"word-3867073345542442847-68\">2</span> <span class=\"word-3867073345542442847-69\">)</span> <span class=\"word-3867073345542442847-70\">we</span> <span class=\"word-3867073345542442847-71\">conducted</span> <span class=\"word-3867073345542442847-72\">a</span> <span class=\"word-3867073345542442847-73\">meta-analysis</span> <span class=\"word-3867073345542442847-74\">of</span> <span class=\"word-3867073345542442847-75\">studies</span> <span class=\"word-3867073345542442847-76\">of</span> <span class=\"word-3867073345542442847-77\">the</span> <span class=\"word-3867073345542442847-78\">OriB</span> <span class=\"word-3867073345542442847-79\">variant</span> <span class=\"word-3867073345542442847-80\">with</span> <span class=\"word-3867073345542442847-81\">type</span> <span class=\"word-3867073345542442847-82\">2</span> <span class=\"word-3867073345542442847-83\">diabetes</span> <span class=\"word-3867073345542442847-84\">in</span> <span class=\"word-3867073345542442847-85\">Europid</span> <span class=\"word-3867073345542442847-86\">populations</span> <span class=\"word-3867073345542442847-87\">(</span> <span class=\"word-3867073345542442847-88\">e.g.</span> <span class=\"word-3867073345542442847-89\">European</span> <span class=\"word-3867073345542442847-90\">continental</span> <span class=\"word-3867073345542442847-91\">ancestry</span> <span class=\"word-3867073345542442847-92\">)</span> <span class=\"word-3867073345542442847-93\">,</span> <span class=\"word-3867073345542442847-94\">involving</span> <span class=\"word-3867073345542442847-95\">a</span> <span class=\"word-3867073345542442847-96\">total</span> <span class=\"word-3867073345542442847-97\">of</span> <span class=\"word-3867073345542442847-98\">11,794</span> <span class=\"word-3867073345542442847-99\">type</span> <span class=\"word-3867073345542442847-100\">2</span> <span class=\"word-3867073345542442847-101\">diabetes</span> <span class=\"word-3867073345542442847-102\">cases</span> <span class=\"word-3867073345542442847-103\">and</span> <span class=\"word-3867073345542442847-104\">14,465</span> <span class=\"word-3867073345542442847-105\">controls</span> <span class=\"word-3867073345542442847-106\">,</span> <span class=\"word-3867073345542442847-107\">over</span> <span class=\"word-3867073345542442847-108\">five</span> <span class=\"word-3867073345542442847-109\">time</span> <span class=\"word-3867073345542442847-110\">as</span> <span class=\"word-3867073345542442847-111\">many</span> <span class=\"word-3867073345542442847-112\">participants</span> <span class=\"word-3867073345542442847-113\">as</span> <span class=\"word-3867073345542442847-114\">in</span> <span class=\"word-3867073345542442847-115\">the</span> <span class=\"word-3867073345542442847-116\">previous</span> <span class=\"word-3867073345542442847-117\">review</span> <span class=\"word-3867073345542442847-118\">(</span> <span class=\"word-3867073345542442847-119\">)</span> <span class=\"word-3867073345542442847-120\">.</span>\n",
       "</div>\n"
      ]
     },
     "metadata": {},
     "output_type": "display_data"
    },
    {
     "data": {
      "application/javascript": [
       "$.getScript(\"http://d3js.org/d3.v3.min.js\", function () {\n",
       "// See http://bl.ocks.org/d3noob/8375092\n",
       "// Three vars need to be provided via python string formatting:\n",
       "var chartId = \"3867073345542442847\";\n",
       "var root = {\"attrib\": {\"word\": \"review\", \"dep_label\": \"\", \"pos\": \"NN\", \"lemma\": \"review\", \"word_idx\": \"117\", \"dep_parent\": \"0\"}, \"children\": [{\"attrib\": {\"word\": \"Our\", \"dep_label\": \"dep\", \"pos\": \"PRP$\", \"lemma\": \"we\", \"word_idx\": \"0\", \"dep_parent\": \"118\"}, \"children\": []}, {\"attrib\": {\"word\": \"reassessment\", \"dep_label\": \"dep\", \"pos\": \"NN\", \"lemma\": \"reassessment\", \"word_idx\": \"1\", \"dep_parent\": \"118\"}, \"children\": []}, {\"attrib\": {\"word\": \"of\", \"dep_label\": \"dep\", \"pos\": \"IN\", \"lemma\": \"of\", \"word_idx\": \"2\", \"dep_parent\": \"118\"}, \"children\": []}, {\"attrib\": {\"word\": \"the\", \"dep_label\": \"dep\", \"pos\": \"DT\", \"lemma\": \"the\", \"word_idx\": \"3\", \"dep_parent\": \"118\"}, \"children\": []}, {\"attrib\": {\"word\": \"association\", \"dep_label\": \"dep\", \"pos\": \"NN\", \"lemma\": \"association\", \"word_idx\": \"4\", \"dep_parent\": \"118\"}, \"children\": []}, {\"attrib\": {\"word\": \"of\", \"dep_label\": \"dep\", \"pos\": \"IN\", \"lemma\": \"of\", \"word_idx\": \"5\", \"dep_parent\": \"118\"}, \"children\": []}, {\"attrib\": {\"word\": \"the\", \"dep_label\": \"dep\", \"pos\": \"DT\", \"lemma\": \"the\", \"word_idx\": \"6\", \"dep_parent\": \"118\"}, \"children\": []}, {\"attrib\": {\"word\": \"OriB\", \"dep_label\": \"dep\", \"pos\": \"NN\", \"lemma\": \"orib\", \"word_idx\": \"7\", \"dep_parent\": \"118\"}, \"children\": []}, {\"attrib\": {\"word\": \"variant\", \"dep_label\": \"dep\", \"pos\": \"NN\", \"lemma\": \"variant\", \"word_idx\": \"8\", \"dep_parent\": \"118\"}, \"children\": []}, {\"attrib\": {\"word\": \"with\", \"dep_label\": \"dep\", \"pos\": \"IN\", \"lemma\": \"with\", \"word_idx\": \"9\", \"dep_parent\": \"118\"}, \"children\": []}, {\"attrib\": {\"word\": \"type\", \"dep_label\": \"dep\", \"pos\": \"NN\", \"lemma\": \"type\", \"word_idx\": \"10\", \"dep_parent\": \"118\"}, \"children\": []}, {\"attrib\": {\"word\": \"2\", \"dep_label\": \"dep\", \"pos\": \"CD\", \"lemma\": \"2\", \"word_idx\": \"11\", \"dep_parent\": \"118\"}, \"children\": []}, {\"attrib\": {\"word\": \"diabetes\", \"dep_label\": \"dep\", \"pos\": \"NNS\", \"lemma\": \"diabetes\", \"word_idx\": \"12\", \"dep_parent\": \"118\"}, \"children\": []}, {\"attrib\": {\"word\": \"used\", \"dep_label\": \"dep\", \"pos\": \"VBD\", \"lemma\": \"use\", \"word_idx\": \"13\", \"dep_parent\": \"118\"}, \"children\": []}, {\"attrib\": {\"word\": \"the\", \"dep_label\": \"dep\", \"pos\": \"DT\", \"lemma\": \"the\", \"word_idx\": \"14\", \"dep_parent\": \"118\"}, \"children\": []}, {\"attrib\": {\"word\": \"following\", \"dep_label\": \"dep\", \"pos\": \"VBG\", \"lemma\": \"follow\", \"word_idx\": \"15\", \"dep_parent\": \"118\"}, \"children\": []}, {\"attrib\": {\"word\": \"approach\", \"dep_label\": \"dep\", \"pos\": \"NN\", \"lemma\": \"approach\", \"word_idx\": \"16\", \"dep_parent\": \"118\"}, \"children\": []}, {\"attrib\": {\"word\": \"to\", \"dep_label\": \"dep\", \"pos\": \"TO\", \"lemma\": \"to\", \"word_idx\": \"17\", \"dep_parent\": \"118\"}, \"children\": []}, {\"attrib\": {\"word\": \"maximise\", \"dep_label\": \"dep\", \"pos\": \"VB\", \"lemma\": \"maximise\", \"word_idx\": \"18\", \"dep_parent\": \"118\"}, \"children\": []}, {\"attrib\": {\"word\": \"power\", \"dep_label\": \"dep\", \"pos\": \"NN\", \"lemma\": \"power\", \"word_idx\": \"19\", \"dep_parent\": \"118\"}, \"children\": []}, {\"attrib\": {\"word\": \"and\", \"dep_label\": \"cc\", \"pos\": \"CC\", \"lemma\": \"and\", \"word_idx\": \"20\", \"dep_parent\": \"118\"}, \"children\": []}, {\"attrib\": {\"word\": \"minimise\", \"dep_label\": \"dep\", \"pos\": \"VB\", \"lemma\": \"minimise\", \"word_idx\": \"21\", \"dep_parent\": \"118\"}, \"children\": []}, {\"attrib\": {\"word\": \"bias\", \"dep_label\": \"dep\", \"pos\": \"NN\", \"lemma\": \"bias\", \"word_idx\": \"22\", \"dep_parent\": \"118\"}, \"children\": []}, {\"attrib\": {\"word\": \"1\", \"dep_label\": \"dep\", \"pos\": \"LS\", \"lemma\": \"1\", \"word_idx\": \"25\", \"dep_parent\": \"118\"}, \"children\": []}, {\"attrib\": {\"word\": \"we\", \"dep_label\": \"dep\", \"pos\": \"PRP\", \"lemma\": \"we\", \"word_idx\": \"27\", \"dep_parent\": \"118\"}, \"children\": []}, {\"attrib\": {\"word\": \"investigated\", \"dep_label\": \"dep\", \"pos\": \"VBD\", \"lemma\": \"investigate\", \"word_idx\": \"28\", \"dep_parent\": \"118\"}, \"children\": []}, {\"attrib\": {\"word\": \"the\", \"dep_label\": \"dep\", \"pos\": \"DT\", \"lemma\": \"the\", \"word_idx\": \"29\", \"dep_parent\": \"118\"}, \"children\": []}, {\"attrib\": {\"word\": \"association\", \"dep_label\": \"dep\", \"pos\": \"NN\", \"lemma\": \"association\", \"word_idx\": \"30\", \"dep_parent\": \"118\"}, \"children\": []}, {\"attrib\": {\"word\": \"between\", \"dep_label\": \"dep\", \"pos\": \"IN\", \"lemma\": \"between\", \"word_idx\": \"31\", \"dep_parent\": \"118\"}, \"children\": []}, {\"attrib\": {\"word\": \"the\", \"dep_label\": \"dep\", \"pos\": \"DT\", \"lemma\": \"the\", \"word_idx\": \"32\", \"dep_parent\": \"118\"}, \"children\": []}, {\"attrib\": {\"word\": \"OriB\", \"dep_label\": \"dep\", \"pos\": \"NN\", \"lemma\": \"orib\", \"word_idx\": \"33\", \"dep_parent\": \"118\"}, \"children\": []}, {\"attrib\": {\"word\": \"variant\", \"dep_label\": \"dep\", \"pos\": \"NN\", \"lemma\": \"variant\", \"word_idx\": \"34\", \"dep_parent\": \"118\"}, \"children\": []}, {\"attrib\": {\"word\": \"and\", \"dep_label\": \"cc\", \"pos\": \"CC\", \"lemma\": \"and\", \"word_idx\": \"35\", \"dep_parent\": \"118\"}, \"children\": []}, {\"attrib\": {\"word\": \"type\", \"dep_label\": \"dep\", \"pos\": \"NN\", \"lemma\": \"type\", \"word_idx\": \"36\", \"dep_parent\": \"118\"}, \"children\": []}, {\"attrib\": {\"word\": \"2\", \"dep_label\": \"dep\", \"pos\": \"CD\", \"lemma\": \"2\", \"word_idx\": \"37\", \"dep_parent\": \"118\"}, \"children\": []}, {\"attrib\": {\"word\": \"diabetes\", \"dep_label\": \"dep\", \"pos\": \"NN\", \"lemma\": \"diabetes\", \"word_idx\": \"38\", \"dep_parent\": \"118\"}, \"children\": []}, {\"attrib\": {\"word\": \"in\", \"dep_label\": \"dep\", \"pos\": \"IN\", \"lemma\": \"in\", \"word_idx\": \"39\", \"dep_parent\": \"118\"}, \"children\": []}, {\"attrib\": {\"word\": \"a\", \"dep_label\": \"dep\", \"pos\": \"DT\", \"lemma\": \"a\", \"word_idx\": \"40\", \"dep_parent\": \"118\"}, \"children\": []}, {\"attrib\": {\"word\": \"large\", \"dep_label\": \"dep\", \"pos\": \"JJ\", \"lemma\": \"large\", \"word_idx\": \"41\", \"dep_parent\": \"118\"}, \"children\": []}, {\"attrib\": {\"word\": \"European\", \"dep_label\": \"dep\", \"pos\": \"JJ\", \"lemma\": \"european\", \"word_idx\": \"42\", \"dep_parent\": \"118\"}, \"children\": []}, {\"attrib\": {\"word\": \"population\", \"dep_label\": \"dep\", \"pos\": \"NN\", \"lemma\": \"population\", \"word_idx\": \"43\", \"dep_parent\": \"118\"}, \"children\": []}, {\"attrib\": {\"word\": \"the\", \"dep_label\": \"dep\", \"pos\": \"DT\", \"lemma\": \"the\", \"word_idx\": \"45\", \"dep_parent\": \"118\"}, \"children\": []}, {\"attrib\": {\"word\": \"Norfolk\", \"dep_label\": \"dep\", \"pos\": \"NNP\", \"lemma\": \"Norfolk\", \"word_idx\": \"46\", \"dep_parent\": \"118\"}, \"children\": []}, {\"attrib\": {\"word\": \"Diabetes\", \"dep_label\": \"dep\", \"pos\": \"NNP\", \"lemma\": \"Diabetes\", \"word_idx\": \"47\", \"dep_parent\": \"118\"}, \"children\": []}, {\"attrib\": {\"word\": \"Case\", \"dep_label\": \"dep\", \"pos\": \"NNP\", \"lemma\": \"Case\", \"word_idx\": \"48\", \"dep_parent\": \"118\"}, \"children\": []}, {\"attrib\": {\"word\": \"Control\", \"dep_label\": \"dep\", \"pos\": \"NNP\", \"lemma\": \"Control\", \"word_idx\": \"50\", \"dep_parent\": \"118\"}, \"children\": []}, {\"attrib\": {\"word\": \"Study\", \"dep_label\": \"dep\", \"pos\": \"NNP\", \"lemma\": \"Study\", \"word_idx\": \"51\", \"dep_parent\": \"118\"}, \"children\": []}, {\"attrib\": {\"word\": \"which\", \"dep_label\": \"dep\", \"pos\": \"WDT\", \"lemma\": \"which\", \"word_idx\": \"54\", \"dep_parent\": \"118\"}, \"children\": []}, {\"attrib\": {\"word\": \"included\", \"dep_label\": \"dep\", \"pos\": \"VBD\", \"lemma\": \"include\", \"word_idx\": \"55\", \"dep_parent\": \"118\"}, \"children\": []}, {\"attrib\": {\"word\": \"5,574\", \"dep_label\": \"dep\", \"pos\": \"CD\", \"lemma\": \"5,574\", \"word_idx\": \"56\", \"dep_parent\": \"118\"}, \"children\": []}, {\"attrib\": {\"word\": \"type\", \"dep_label\": \"dep\", \"pos\": \"NN\", \"lemma\": \"type\", \"word_idx\": \"57\", \"dep_parent\": \"118\"}, \"children\": []}, {\"attrib\": {\"word\": \"2\", \"dep_label\": \"dep\", \"pos\": \"CD\", \"lemma\": \"2\", \"word_idx\": \"58\", \"dep_parent\": \"118\"}, \"children\": []}, {\"attrib\": {\"word\": \"diabetes\", \"dep_label\": \"dep\", \"pos\": \"NN\", \"lemma\": \"diabetes\", \"word_idx\": \"59\", \"dep_parent\": \"118\"}, \"children\": []}, {\"attrib\": {\"word\": \"cases\", \"dep_label\": \"dep\", \"pos\": \"NNS\", \"lemma\": \"case\", \"word_idx\": \"60\", \"dep_parent\": \"118\"}, \"children\": []}, {\"attrib\": {\"word\": \"and\", \"dep_label\": \"cc\", \"pos\": \"CC\", \"lemma\": \"and\", \"word_idx\": \"61\", \"dep_parent\": \"118\"}, \"children\": []}, {\"attrib\": {\"word\": \"6,950\", \"dep_label\": \"dep\", \"pos\": \"CD\", \"lemma\": \"6,950\", \"word_idx\": \"62\", \"dep_parent\": \"118\"}, \"children\": []}, {\"attrib\": {\"word\": \"healthy\", \"dep_label\": \"dep\", \"pos\": \"JJ\", \"lemma\": \"healthy\", \"word_idx\": \"63\", \"dep_parent\": \"118\"}, \"children\": []}, {\"attrib\": {\"word\": \"controls\", \"dep_label\": \"dep\", \"pos\": \"NNS\", \"lemma\": \"control\", \"word_idx\": \"64\", \"dep_parent\": \"118\"}, \"children\": []}, {\"attrib\": {\"word\": \"and\", \"dep_label\": \"cc\", \"pos\": \"CC\", \"lemma\": \"and\", \"word_idx\": \"66\", \"dep_parent\": \"118\"}, \"children\": []}, {\"attrib\": {\"word\": \"2\", \"dep_label\": \"dep\", \"pos\": \"LS\", \"lemma\": \"2\", \"word_idx\": \"68\", \"dep_parent\": \"118\"}, \"children\": []}, {\"attrib\": {\"word\": \"we\", \"dep_label\": \"dep\", \"pos\": \"PRP\", \"lemma\": \"we\", \"word_idx\": \"70\", \"dep_parent\": \"118\"}, \"children\": []}, {\"attrib\": {\"word\": \"conducted\", \"dep_label\": \"dep\", \"pos\": \"VBD\", \"lemma\": \"conduct\", \"word_idx\": \"71\", \"dep_parent\": \"118\"}, \"children\": []}, {\"attrib\": {\"word\": \"a\", \"dep_label\": \"dep\", \"pos\": \"DT\", \"lemma\": \"a\", \"word_idx\": \"72\", \"dep_parent\": \"118\"}, \"children\": []}, {\"attrib\": {\"word\": \"meta-analysis\", \"dep_label\": \"dep\", \"pos\": \"NN\", \"lemma\": \"meta-analysis\", \"word_idx\": \"73\", \"dep_parent\": \"118\"}, \"children\": []}, {\"attrib\": {\"word\": \"of\", \"dep_label\": \"dep\", \"pos\": \"IN\", \"lemma\": \"of\", \"word_idx\": \"74\", \"dep_parent\": \"118\"}, \"children\": []}, {\"attrib\": {\"word\": \"studies\", \"dep_label\": \"dep\", \"pos\": \"NNS\", \"lemma\": \"study\", \"word_idx\": \"75\", \"dep_parent\": \"118\"}, \"children\": []}, {\"attrib\": {\"word\": \"of\", \"dep_label\": \"dep\", \"pos\": \"IN\", \"lemma\": \"of\", \"word_idx\": \"76\", \"dep_parent\": \"118\"}, \"children\": []}, {\"attrib\": {\"word\": \"the\", \"dep_label\": \"dep\", \"pos\": \"DT\", \"lemma\": \"the\", \"word_idx\": \"77\", \"dep_parent\": \"118\"}, \"children\": []}, {\"attrib\": {\"word\": \"OriB\", \"dep_label\": \"dep\", \"pos\": \"NN\", \"lemma\": \"orib\", \"word_idx\": \"78\", \"dep_parent\": \"118\"}, \"children\": []}, {\"attrib\": {\"word\": \"variant\", \"dep_label\": \"dep\", \"pos\": \"NN\", \"lemma\": \"variant\", \"word_idx\": \"79\", \"dep_parent\": \"118\"}, \"children\": []}, {\"attrib\": {\"word\": \"with\", \"dep_label\": \"dep\", \"pos\": \"IN\", \"lemma\": \"with\", \"word_idx\": \"80\", \"dep_parent\": \"118\"}, \"children\": []}, {\"attrib\": {\"word\": \"type\", \"dep_label\": \"dep\", \"pos\": \"NN\", \"lemma\": \"type\", \"word_idx\": \"81\", \"dep_parent\": \"118\"}, \"children\": []}, {\"attrib\": {\"word\": \"2\", \"dep_label\": \"dep\", \"pos\": \"CD\", \"lemma\": \"2\", \"word_idx\": \"82\", \"dep_parent\": \"118\"}, \"children\": []}, {\"attrib\": {\"word\": \"diabetes\", \"dep_label\": \"dep\", \"pos\": \"NN\", \"lemma\": \"diabetes\", \"word_idx\": \"83\", \"dep_parent\": \"118\"}, \"children\": []}, {\"attrib\": {\"word\": \"in\", \"dep_label\": \"dep\", \"pos\": \"IN\", \"lemma\": \"in\", \"word_idx\": \"84\", \"dep_parent\": \"118\"}, \"children\": []}, {\"attrib\": {\"word\": \"Europid\", \"dep_label\": \"dep\", \"pos\": \"JJ\", \"lemma\": \"europid\", \"word_idx\": \"85\", \"dep_parent\": \"118\"}, \"children\": []}, {\"attrib\": {\"word\": \"populations\", \"dep_label\": \"dep\", \"pos\": \"NNS\", \"lemma\": \"population\", \"word_idx\": \"86\", \"dep_parent\": \"118\"}, \"children\": []}, {\"attrib\": {\"word\": \"e.g.\", \"dep_label\": \"dep\", \"pos\": \"FW\", \"lemma\": \"e.g.\", \"word_idx\": \"88\", \"dep_parent\": \"118\"}, \"children\": []}, {\"attrib\": {\"word\": \"European\", \"dep_label\": \"dep\", \"pos\": \"JJ\", \"lemma\": \"european\", \"word_idx\": \"89\", \"dep_parent\": \"118\"}, \"children\": []}, {\"attrib\": {\"word\": \"continental\", \"dep_label\": \"dep\", \"pos\": \"JJ\", \"lemma\": \"continental\", \"word_idx\": \"90\", \"dep_parent\": \"118\"}, \"children\": []}, {\"attrib\": {\"word\": \"ancestry\", \"dep_label\": \"dep\", \"pos\": \"NN\", \"lemma\": \"ancestry\", \"word_idx\": \"91\", \"dep_parent\": \"118\"}, \"children\": []}, {\"attrib\": {\"word\": \"involving\", \"dep_label\": \"dep\", \"pos\": \"VBG\", \"lemma\": \"involve\", \"word_idx\": \"94\", \"dep_parent\": \"118\"}, \"children\": []}, {\"attrib\": {\"word\": \"a\", \"dep_label\": \"dep\", \"pos\": \"DT\", \"lemma\": \"a\", \"word_idx\": \"95\", \"dep_parent\": \"118\"}, \"children\": []}, {\"attrib\": {\"word\": \"total\", \"dep_label\": \"dep\", \"pos\": \"NN\", \"lemma\": \"total\", \"word_idx\": \"96\", \"dep_parent\": \"118\"}, \"children\": []}, {\"attrib\": {\"word\": \"of\", \"dep_label\": \"dep\", \"pos\": \"IN\", \"lemma\": \"of\", \"word_idx\": \"97\", \"dep_parent\": \"118\"}, \"children\": []}, {\"attrib\": {\"word\": \"11,794\", \"dep_label\": \"dep\", \"pos\": \"CD\", \"lemma\": \"11,794\", \"word_idx\": \"98\", \"dep_parent\": \"118\"}, \"children\": []}, {\"attrib\": {\"word\": \"type\", \"dep_label\": \"dep\", \"pos\": \"NN\", \"lemma\": \"type\", \"word_idx\": \"99\", \"dep_parent\": \"118\"}, \"children\": []}, {\"attrib\": {\"word\": \"2\", \"dep_label\": \"dep\", \"pos\": \"CD\", \"lemma\": \"2\", \"word_idx\": \"100\", \"dep_parent\": \"118\"}, \"children\": []}, {\"attrib\": {\"word\": \"diabetes\", \"dep_label\": \"dep\", \"pos\": \"NN\", \"lemma\": \"diabetes\", \"word_idx\": \"101\", \"dep_parent\": \"118\"}, \"children\": []}, {\"attrib\": {\"word\": \"cases\", \"dep_label\": \"dep\", \"pos\": \"NNS\", \"lemma\": \"case\", \"word_idx\": \"102\", \"dep_parent\": \"118\"}, \"children\": []}, {\"attrib\": {\"word\": \"and\", \"dep_label\": \"cc\", \"pos\": \"CC\", \"lemma\": \"and\", \"word_idx\": \"103\", \"dep_parent\": \"118\"}, \"children\": []}, {\"attrib\": {\"word\": \"14,465\", \"dep_label\": \"dep\", \"pos\": \"CD\", \"lemma\": \"14,465\", \"word_idx\": \"104\", \"dep_parent\": \"118\"}, \"children\": []}, {\"attrib\": {\"word\": \"controls\", \"dep_label\": \"dep\", \"pos\": \"NNS\", \"lemma\": \"control\", \"word_idx\": \"105\", \"dep_parent\": \"118\"}, \"children\": []}, {\"attrib\": {\"word\": \"over\", \"dep_label\": \"dep\", \"pos\": \"IN\", \"lemma\": \"over\", \"word_idx\": \"107\", \"dep_parent\": \"118\"}, \"children\": []}, {\"attrib\": {\"word\": \"five\", \"dep_label\": \"dep\", \"pos\": \"CD\", \"lemma\": \"five\", \"word_idx\": \"108\", \"dep_parent\": \"118\"}, \"children\": []}, {\"attrib\": {\"word\": \"time\", \"dep_label\": \"dep\", \"pos\": \"NN\", \"lemma\": \"time\", \"word_idx\": \"109\", \"dep_parent\": \"118\"}, \"children\": []}, {\"attrib\": {\"word\": \"as\", \"dep_label\": \"dep\", \"pos\": \"IN\", \"lemma\": \"as\", \"word_idx\": \"110\", \"dep_parent\": \"118\"}, \"children\": []}, {\"attrib\": {\"word\": \"many\", \"dep_label\": \"dep\", \"pos\": \"JJ\", \"lemma\": \"many\", \"word_idx\": \"111\", \"dep_parent\": \"118\"}, \"children\": []}, {\"attrib\": {\"word\": \"participants\", \"dep_label\": \"dep\", \"pos\": \"NNS\", \"lemma\": \"participant\", \"word_idx\": \"112\", \"dep_parent\": \"118\"}, \"children\": []}, {\"attrib\": {\"word\": \"as\", \"dep_label\": \"dep\", \"pos\": \"IN\", \"lemma\": \"as\", \"word_idx\": \"113\", \"dep_parent\": \"118\"}, \"children\": []}, {\"attrib\": {\"word\": \"in\", \"dep_label\": \"dep\", \"pos\": \"IN\", \"lemma\": \"in\", \"word_idx\": \"114\", \"dep_parent\": \"118\"}, \"children\": []}, {\"attrib\": {\"word\": \"the\", \"dep_label\": \"det\", \"pos\": \"DT\", \"lemma\": \"the\", \"word_idx\": \"115\", \"dep_parent\": \"118\"}, \"children\": []}, {\"attrib\": {\"word\": \"previous\", \"dep_label\": \"dep\", \"pos\": \"JJ\", \"lemma\": \"previous\", \"word_idx\": \"116\", \"dep_parent\": \"118\"}, \"children\": []}]};\n",
       "var highlightIdxs = [[7, 8], [85, 86]];\n",
       "\n",
       "// Highlight words / nodes\n",
       "var COLORS = [\"#ff5c33\", \"#ffcc00\", \"#33cc33\", \"#3399ff\"];\n",
       "function highlightWords() {\n",
       "  for (var i=0; i < highlightIdxs.length; i++) {\n",
       "    var c = COLORS[i];\n",
       "    var idxs = highlightIdxs[i];\n",
       "    for (var j=0; j < idxs.length; j++) {\n",
       "      d3.selectAll(\".word-\"+chartId+\"-\"+idxs[j]).style(\"stroke\", c).style(\"background\", c);\n",
       "    }\n",
       "  }\n",
       "}\n",
       "\n",
       "// Constants\n",
       "var margin = {top: 20, right: 20, bottom: 20, left: 20},\n",
       "width = 800 - margin.left - margin.right,\n",
       "height = 350 - margin.top - margin.bottom,\n",
       "R = 5;\n",
       "\n",
       "// Create the d3 tree object\n",
       "var tree = d3.layout.tree()\n",
       "  .size([width, height]);\n",
       "\n",
       "// Create the svg canvas\n",
       "var svg = d3.select(\"#tree-chart-\" + chartId)\n",
       "  .append(\"svg\")\n",
       "  .attr(\"width\", width + margin.left + margin.right)\n",
       "  .attr(\"height\", height + margin.top + margin.bottom)\n",
       "  .append(\"g\")\n",
       "  .attr(\"transform\", \"translate(\" + margin.left + \",\" + margin.top + \")\");\n",
       "\n",
       "function renderTree() {\n",
       "  var nodes = tree.nodes(root),\n",
       "  edges = tree.links(nodes);\n",
       "\n",
       "  // Place the nodes\n",
       "  var nodeGroups = svg.selectAll(\"g.node\")\n",
       "    .data(nodes)\n",
       "    .enter().append(\"g\")\n",
       "    .attr(\"class\", \"node\")\n",
       "    .attr(\"transform\", function(d) { return \"translate(\" + d.x + \",\" + d.y + \")\"; });\n",
       "       \n",
       "  // Append circles\n",
       "  nodeGroups.append(\"circle\")\n",
       "    //.on(\"click\", function() {\n",
       "    //  d3.select(this).classed(\"highlight\", !d3.select(this).classed(\"highlight\")); })\n",
       "    .attr(\"r\", R)\n",
       "    .attr(\"class\", function(d) { return \"word-\"+chartId+\"-\"+d.attrib.word_idx; });\n",
       "     \n",
       "  // Append the actual word\n",
       "  nodeGroups.append(\"text\")\n",
       "    .text(function(d) { return d.attrib.word; })\n",
       "    .attr(\"text-anchor\", function(d) { \n",
       "      return d.children && d.children.length > 0 ? \"start\" : \"middle\"; })\n",
       "    .attr(\"dx\", function(d) { \n",
       "      return d.children && d.children.length > 0 ? R + 3 : 0; })\n",
       "    .attr(\"dy\", function(d) { \n",
       "      return d.children && d.children.length > 0 ? 0 : 3*R + 3; });\n",
       "\n",
       "  // Place the edges\n",
       "  var edgePaths = svg.selectAll(\"path\")\n",
       "    .data(edges)\n",
       "    .enter().append(\"path\")\n",
       "    .attr(\"class\", \"edge\")\n",
       "    .on(\"click\", function() {\n",
       "      d3.select(this).classed(\"highlight\", !d3.select(this).classed(\"highlight\")); })\n",
       "    .attr(\"d\", d3.svg.diagonal());\n",
       "}\n",
       "\n",
       "renderTree();\n",
       "highlightWords();\n",
       "});\n"
      ]
     },
     "metadata": {},
     "output_type": "display_data"
    }
   ],
   "source": [
    "hypotheses[0].render()"
   ]
  },
  {
   "cell_type": "code",
   "execution_count": 34,
   "metadata": {
    "collapsed": false
   },
   "outputs": [
    {
     "name": "stdout",
     "output_type": "stream",
     "text": [
      "Extracted 3275 features for each of 103 mentions\n"
     ]
    }
   ],
   "source": [
    "# build a model for the current candidates and generate features\n",
    "CM = DDLiteModel(hypotheses)\n",
    "print \"Extracted {} features for each of {} mentions\".format(CM.num_feats(), CM.num_candidates())"
   ]
  },
  {
   "cell_type": "code",
   "execution_count": 35,
   "metadata": {
    "collapsed": false
   },
   "outputs": [
    {
     "name": "stdout",
     "output_type": "stream",
     "text": [
      "Making sure MindTagger is installed. Hang on!\n"
     ]
    },
    {
     "data": {
      "text/html": [
       "\n",
       "        <iframe\n",
       "            width=\"100%\"\n",
       "            height=\"1200\"\n",
       "            src=\"http://raiders10.stanford.edu:8866/#/mindtagger/10736838d773f64c\"\n",
       "            frameborder=\"0\"\n",
       "            allowfullscreen\n",
       "        ></iframe>\n",
       "        "
      ],
      "text/plain": [
       "<IPython.lib.display.IFrame at 0x7f437baa6d50>"
      ]
     },
     "execution_count": 35,
     "metadata": {},
     "output_type": "execute_result"
    }
   ],
   "source": [
    "# label a small amount of data with mindtagger to be used for evaluating the labeling functions\n",
    "CM.open_mindtagger(num_sample=100, width='100%', height=1200)"
   ]
  },
  {
   "cell_type": "code",
   "execution_count": 29,
   "metadata": {
    "collapsed": false
   },
   "outputs": [
    {
     "name": "stderr",
     "output_type": "stream",
     "text": [
      "../ddlite.py:602: VisibleDeprecationWarning: using a non-integer number instead of an integer will result in an error in the future\n",
      "  self.dev1 = idxs[ : np.floor(dev_split * len(idxs))]\n",
      "../ddlite.py:603: VisibleDeprecationWarning: using a non-integer number instead of an integer will result in an error in the future\n",
      "  self.dev2 = idxs[np.floor(dev_split * len(idxs)) : ]\n"
     ]
    }
   ],
   "source": [
    "# Add Mindtagger tags to the model\n",
    "CM.add_mindtagger_tags()"
   ]
  },
  {
   "cell_type": "markdown",
   "metadata": {},
   "source": [
    "## Labeling Functions"
   ]
  },
  {
   "cell_type": "code",
   "execution_count": null,
   "metadata": {
    "collapsed": true
   },
   "outputs": [],
   "source": [
    "def post_window(m, key, n=3):\n",
    "    s = list(m.idxs)\n",
    "    b = len(m.lemmas) - np.max(s)\n",
    "    s.extend([np.max(s) + i for i in range(1, min(b,n+1))])\n",
    "    return key in [m.lemmas[i] for i in s]\n",
    "def pre_window(m, key, n=3):\n",
    "    s = list(m.idxs)\n",
    "    b = np.min(s)\n",
    "    s.extend([b - i for i in range(1, min(b,n+1))])\n",
    "    return key in [m.lemmas[i] for i in s]\n",
    "def stopper(m, stop):\n",
    "    return stop in [m.lemmas[i] for i in m.idxs]\n",
    "\n",
    "def LF_gene(m):\n",
    "    return 1 if (post_window(m, 'gene') or pre_window(m, 'gene')) else 0\n",
    "def LF_mutant(m):\n",
    "    return 1 if (post_window(m, 'mutant') or pre_window(m, 'mutant')) else 0\n",
    "def LF_express(m):\n",
    "    return 1 if (post_window(m, 'express') or pre_window(m, 'express')) else 0\n",
    "def LF_mutation(m):\n",
    "    return 1 if 'mutation' in [m.lemmas[m.dep_parents[i] - 1] for i in m.idxs] else 0\n",
    "def LF_dna(m):\n",
    "    return -1 if stopper(m, 'dna') else 0\n",
    "def LF_rna(m):\n",
    "    return -1 if stopper(m, 'rna') else 0\n",
    "def LF_snp(m):\n",
    "    return -1 if stopper(m, 'snp') else 0"
   ]
  }
 ],
 "metadata": {
  "kernelspec": {
   "display_name": "Python 2",
   "language": "python",
   "name": "python2"
  },
  "language_info": {
   "codemirror_mode": {
    "name": "ipython",
    "version": 2
   },
   "file_extension": ".py",
   "mimetype": "text/x-python",
   "name": "python",
   "nbconvert_exporter": "python",
   "pygments_lexer": "ipython2",
   "version": "2.7.6"
  }
 },
 "nbformat": 4,
 "nbformat_minor": 0
}
