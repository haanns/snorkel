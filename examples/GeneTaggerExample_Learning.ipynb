{
 "cells": [
  {
   "cell_type": "markdown",
   "metadata": {},
   "source": [
    "# Tagging genes with ddlite: learning and labeling function iteration\n",
    "\n",
    "## Introduction\n",
    "In this example **ddlite** app, we'll build a gene tagger from scratch. Domain-specific tagging systems take months or years to develop. They use hand-crafted model circuitry and accurate, hand-labeled training data. We'll start to build a pretty good one in a few minutes with none of those things. The generalized extraction and learning utilities provided by ddlite will allow us to turn a sampling of article abstracts and some basic domain knowledge into an automated tagging system. Specifically, we want an accurate tagger for genes in academic articles. We have comprehensive dictionaries of genes, but applying a simple matching rule might yield a lot of false positives. For example, \"p53\" might get tagged as a gene if it refers to a page number. Our goal is to use distant supervision to improve precision.\n",
    "\n",
    "Here's the pipeline we'll follow:\n",
    "\n",
    "1. Obtain and parse input data (relevant article abstracts from PubMed)\n",
    "2. Extract candidates for tagging\n",
    "3. Generate features\n",
    "4. Create a test set\n",
    "5. Write labeling functions\n",
    "6. Learn the tagging model\n",
    "7. Iterate on labeling functions\n",
    "\n",
    "Parts 3 through 7 are covered in this notebook. It requires candidates extracted from `GeneTaggerExample_Extraction.ipynb`, which covers parts 1 and 2."
   ]
  },
  {
   "cell_type": "code",
   "execution_count": 1,
   "metadata": {
    "collapsed": false
   },
   "outputs": [],
   "source": [
    "%load_ext autoreload\n",
    "%autoreload 2\n",
    "\n",
    "import cPickle, os, sys\n",
    "sys.path.insert(1, os.path.join(sys.path[0], '..'))\n",
    "\n",
    "from ddlite import *\n",
    "np.random.seed(seed=1701)\n",
    "\n",
    "%matplotlib inline\n",
    "matplotlib.rcParams['figure.figsize'] = (18,6)"
   ]
  },
  {
   "cell_type": "markdown",
   "metadata": {},
   "source": [
    "## Loading candidate extractions\n",
    "First, we'll load in the pickled candidates that we created in the last notebook. We can construct an `Entities` object with the file."
   ]
  },
  {
   "cell_type": "code",
   "execution_count": 2,
   "metadata": {
    "collapsed": false
   },
   "outputs": [],
   "source": [
    "E = Entities('gene_tag_example/gene_tag_saved_entities_v6.pkl')"
   ]
  },
  {
   "cell_type": "markdown",
   "metadata": {},
   "source": [
    "## `DDLiteModel` objects and feature generation\n",
    "We'll then create a `DDLiteModel` object for our extracted gene candidates. This lets us iterate with our model and labeling functions. Since `Entities` object defines a feature generation method, features are automatically created when we initialize a `DDLiteModel` object. These are generic features from the NLP markup and dependency tree in the neighborhood of the mention. Alternatively, you can define a custom feature set as a NumPy array or a Scipy sparse matrix. Here, we pickle our feature matrix so we don't have to recompute it in the future."
   ]
  },
  {
   "cell_type": "code",
   "execution_count": 3,
   "metadata": {
    "collapsed": false
   },
   "outputs": [
    {
     "name": "stdout",
     "output_type": "stream",
     "text": [
      "CPU times: user 2.6 s, sys: 20 ms, total: 2.62 s\n",
      "Wall time: 2.86 s\n",
      "Extracted 30533 features for each of 1968 mentions\n"
     ]
    }
   ],
   "source": [
    "feats = None\n",
    "\n",
    "pkl_f = 'gene_tag_example/gene_tag_feats_v2.pkl'\n",
    "try:\n",
    "    with open(pkl_f, 'rb') as f:\n",
    "        feats = cPickle.load(f)\n",
    "except:\n",
    "    %time E.extract_features()\n",
    "    with open(pkl_f, 'w+') as f:\n",
    "        cPickle.dump(E.feats, f)\n",
    "\n",
    "DDL = DDLiteModel(E, feats)\n",
    "print \"Extracted {} features for each of {} mentions\".format(DDL.num_feats(), DDL.num_candidates())"
   ]
  },
  {
   "cell_type": "markdown",
   "metadata": {},
   "source": [
    "We need a blind, gold standard ground truth set to evaluate our predictions. We can add these by using the uids for the candidates we want, and align these with a value of 1 for positive or a value of -1 for negative. We'll load in a set now using `DDL.update_gt()` and set it as the holdout. We'll assign half of the holdout to a validation set for parameter tuning, and the other half to a test set."
   ]
  },
  {
   "cell_type": "code",
   "execution_count": 4,
   "metadata": {
    "collapsed": false
   },
   "outputs": [],
   "source": [
    "with open('gene_tag_example/gt/uids.pkl', 'rb') as f:\n",
    "    uids = cPickle.load(f)\n",
    "with open('gene_tag_example/gt/gt.pkl', 'rb') as f:\n",
    "    gt = cPickle.load(f)\n",
    "    \n",
    "DDL.update_gt(gt[:50], uids=uids[:50])\n",
    "DDL.set_holdout(validation_frac=0.5)"
   ]
  },
  {
   "cell_type": "markdown",
   "metadata": {},
   "source": [
    "## Building a ground truth set with MindTagger\n",
    "In order to evaluate our labeling functions and learning results, we'll create a small set of ground truth labels for some candidates using [Mindtagger](http://deepdive.stanford.edu/labeling). This will highlight each candidate in the sentence in which it appears. We set the response to yes if it is a mention of gene, and no otherwise. If you aren't sure, you can abstain from labeling. In a real application, we would likely want to tag more than 20 candidates."
   ]
  },
  {
   "cell_type": "code",
   "execution_count": 5,
   "metadata": {
    "collapsed": false,
    "scrolled": false
   },
   "outputs": [
    {
     "name": "stdout",
     "output_type": "stream",
     "text": [
      "Making sure MindTagger is installed. Hang on!\n"
     ]
    },
    {
     "data": {
      "text/html": [
       "\n",
       "        <iframe\n",
       "            width=\"100%\"\n",
       "            height=\"1200\"\n",
       "            src=\"http://henry-ddlite-dev:8855/#/mindtagger/2fa2aae610ce3bc8\"\n",
       "            frameborder=\"0\"\n",
       "            allowfullscreen\n",
       "        ></iframe>\n",
       "        "
      ],
      "text/plain": [
       "<IPython.lib.display.IFrame at 0x7f4c50d8ee10>"
      ]
     },
     "execution_count": 5,
     "metadata": {},
     "output_type": "execute_result"
    }
   ],
   "source": [
    "DDL.open_mindtagger(num_sample=100, width='100%', height=1200)"
   ]
  },
  {
   "cell_type": "markdown",
   "metadata": {},
   "source": [
    "Now, we'll retrieve the tags and add them to our `DDLiteModel`. We can also use a previously defined Mindtagger label set, similar to how we added our gold labels (this time, we'll use indexes instead of uids). These labels are used for evaluating our labeling functions against the *development set*."
   ]
  },
  {
   "cell_type": "code",
   "execution_count": 6,
   "metadata": {
    "collapsed": false
   },
   "outputs": [],
   "source": [
    "DDL.add_mindtagger_tags()"
   ]
  },
  {
   "cell_type": "code",
   "execution_count": 7,
   "metadata": {
    "collapsed": false
   },
   "outputs": [],
   "source": [
    "DDL.update_gt(gt[50:], uids=uids[50:])"
   ]
  },
  {
   "cell_type": "markdown",
   "metadata": {},
   "source": [
    "## Writing labeling functions\n",
    "We'll use data programming to learn a logistic regression model which will predict the probability of a candidate entity being a true gene mention. Since our training data is not manually labeled, we'll generate many (potentially noisy) labels as a surrogate for precise, manual labels. Feature extraction and model learning are very simple in ddlite. Writing labeling functions is where the real artistry comes in. One of ddlite's goals is to enable rapid prototyping, debugging, and experimenting with labeling functions. These can be used either to create a simple standalone app, or to plug into DeepDive. Labeling functions, or LFs, are functions that take an `Candidate` object. They must return 1 (for a positive label), 0 (for abstaining), or -1 (for a negative example). For now, we'll write a few simple LFs to get started:\n",
    "\n",
    "* The first, second, and third LFs return a positive label if the lemma \"gene\", \"mutant\", or \"express\" appear in a window around the mention, respectively\n",
    "* The third LF returns a positive label if the dependency parent of any of the words in the mention is \"mutation\", and abstains otherwise\n",
    "* The fourth, fifth, and sixth LF return a negative label if the mention candidate contains \"DNA\", \"RNA\", or \"SNP\" respectively (these are common uppercase nouns which are not genes) "
   ]
  },
  {
   "cell_type": "code",
   "execution_count": 8,
   "metadata": {
    "collapsed": false
   },
   "outputs": [],
   "source": [
    "def LF_gene(m):\n",
    "    return 1 if ('gene' in m.post_window('lemmas')) or ('gene' in m.pre_window('lemmas')) else 0\n",
    "def LF_gene_dp(m):\n",
    "    return 1 if 'gene' in [m.lemmas[m.dep_parents[i] - 1] for i in m.idxs] else 0\n",
    "def LF_genotype_dp(m):\n",
    "    return 1 if 'genotype' in [m.lemmas[m.dep_parents[i] - 1] for i in m.idxs] else 0\n",
    "def LF_mutant(m):\n",
    "    return 1 if ('mutant' in m.post_window('lemmas')) or ('mutant' in m.pre_window('lemmas')) else 0\n",
    "def LF_variant(m):\n",
    "    return 1 if ('variant' in m.post_window('lemmas')) or ('variant' in m.pre_window('lemmas')) else 0\n",
    "def LF_express(m):\n",
    "    return 1 if ('express' in m.post_window('lemmas')) or ('express' in m.pre_window('lemmas')) else 0\n",
    "def LF_mutation(m):\n",
    "    return 1 if 'mutation' in [m.lemmas[m.dep_parents[i] - 1] for i in m.idxs] else 0\n",
    "def LF_JJ(m):\n",
    "    return 1 if 'JJ' in m.post_window('poses') else 0\n",
    "def LF_IN(m):\n",
    "    return 1 if 'IN' in m.pre_window('poses', 1) else 0\n",
    "\n",
    "def LF_dna(m):\n",
    "    return -1 if 'DNA' in m.mention('words') else 0\n",
    "def LF_rna(m):\n",
    "    return -1 if 'RNA' in m.mention('words') else 0\n",
    "def LF_snp(m):\n",
    "    return -1 if 'SNP' in m.mention('words') else 0\n",
    "def LF_protein(m):\n",
    "    return -1 if 'protein' in m.pre_window('lemmas') else 0\n",
    "def LF_LRB(m):\n",
    "    return -1 if '-LRB-' in m.post_window('poses', 1) else 0\n",
    "def LF_RRB(m):\n",
    "    return -1 if '-RRB-' in m.post_window('poses', 1) else 0\n",
    "def LF_dev_dp(m):\n",
    "    return -1 if 'development' in [m.lemmas[m.dep_parents[i] - 1] for i in m.idxs] else 0\n",
    "def LF_protein_dp(m):\n",
    "    return -1 if 'protein' in [m.lemmas[m.dep_parents[i] - 1] for i in m.idxs] else 0\n",
    "def LF_network_dp(m):\n",
    "    return -1 if 'network' in [m.lemmas[m.dep_parents[i] - 1] for i in m.idxs] else 0\n",
    "def LF_JJ_dp(m):\n",
    "    return -1 if 'JJ' in [m.poses[m.dep_parents[i] - 1] for i in m.idxs] else 0\n",
    "def LF_NNP(m):\n",
    "    return -1 if 'NNP' in m.mention('poses') else 0"
   ]
  },
  {
   "cell_type": "markdown",
   "metadata": {},
   "source": [
    "Our intuition is that the few simple LFs given above won't yield a good model. We'll see this more concretely when we evaluate the labeling functions. For now, let's leave them as is. After writing the LFs, we simply collect them and apply them to mentions. If we define more LFs later, we can apply them incrementally or overwrite all the LFs so far."
   ]
  },
  {
   "cell_type": "code",
   "execution_count": 9,
   "metadata": {
    "collapsed": false
   },
   "outputs": [],
   "source": [
    "LFs = [LF_JJ, LF_JJ_dp, LF_NNP, LF_RRB, LF_dev_dp, LF_dna, LF_express, LF_gene, LF_gene_dp,\n",
    "       LF_genotype_dp, LF_mutant, LF_mutation, LF_network_dp, LF_protein, LF_protein_dp,\n",
    "       LF_rna, LF_snp, LF_variant, LF_IN, LF_LRB]\n",
    "DDL.apply_lfs(LFs, clear=True)"
   ]
  },
  {
   "cell_type": "markdown",
   "metadata": {},
   "source": [
    "We'll use ddlite's LF assessment utilities to debug and analyze our LFs before running inference. First, we'll generate summary plots which show the following:\n",
    "\n",
    "* Do the LFs cover the data well or do we have many candidates for which all of the LFs abstained?\n",
    "* Is there overlap between the LFs? Do many return positive or negative labels for the same candidate?\n",
    "* Do the LFs conflict with each other? Do candidates tend to have many of one type of label, or a mix?"
   ]
  },
  {
   "cell_type": "code",
   "execution_count": 10,
   "metadata": {
    "collapsed": false
   },
   "outputs": [
    {
     "name": "stdout",
     "output_type": "stream",
     "text": [
      "LF stats on training set\n",
      "Coverage:\t69.135%\n",
      "Overlap:\t30.083%\n",
      "Conflict:\t15.276%\n"
     ]
    }
   ],
   "source": [
    "DDL.print_lf_stats()"
   ]
  },
  {
   "cell_type": "code",
   "execution_count": 11,
   "metadata": {
    "collapsed": false,
    "scrolled": true
   },
   "outputs": [
    {
     "data": {
      "image/png": "[encoded data removed]",
      "text/plain": [
       "<matplotlib.figure.Figure at 0x7f4c4fe9d090>"
      ]
     },
     "metadata": {},
     "output_type": "display_data"
    }
   ],
   "source": [
    "DDL.plot_lf_stats()"
   ]
  },
  {
   "cell_type": "markdown",
   "metadata": {},
   "source": [
    "As we may expect, the few LFs do not cover the data very well. We can switch to an LF view of these measures and show tables for the LFs with the most conflict, lowest coverage, and lowest empirical accuracy as compared to the development set labels."
   ]
  },
  {
   "cell_type": "code",
   "execution_count": 12,
   "metadata": {
    "collapsed": false
   },
   "outputs": [
    {
     "data": {
      "text/html": [
       "<table><tr><td><b>Labeling function</b></td><td><b>Percent candidates where LF has conflict</b></td></tr><tr><td>LF_IN</td><td>7.98%</td></tr><tr><td>LF_NNP</td><td>6.52%</td></tr><tr><td>LF_JJ</td><td>5.27%</td></tr></table>"
      ],
      "text/plain": [
       "DictTable([('LF_IN', ['7.98%']),\n",
       "           ('LF_NNP', ['6.52%']),\n",
       "           ('LF_JJ', ['5.27%']),\n",
       "           ('LF_RRB', ['3.49%']),\n",
       "           ('LF_gene', ['2.76%']),\n",
       "           ('LF_LRB', ['2.45%']),\n",
       "           ('LF_JJ_dp', ['1.46%']),\n",
       "           ('LF_gene_dp', ['1.15%']),\n",
       "           ('LF_mutation', ['0.99%']),\n",
       "           ('LF_dna', ['0.63%']),\n",
       "           ('LF_protein_dp', ['0.63%']),\n",
       "           ('LF_mutant', ['0.57%']),\n",
       "           ('LF_variant', ['0.52%']),\n",
       "           ('LF_snp', ['0.36%']),\n",
       "           ('LF_express', ['0.31%']),\n",
       "           ('LF_rna', ['0.31%']),\n",
       "           ('LF_dev_dp', ['0.21%']),\n",
       "           ('LF_protein', ['0.21%']),\n",
       "           ('LF_genotype_dp', ['0.10%']),\n",
       "           ('LF_network_dp', ['0.00%'])])"
      ]
     },
     "execution_count": 12,
     "metadata": {},
     "output_type": "execute_result"
    }
   ],
   "source": [
    "DDL.top_conflict_lfs(n=3)"
   ]
  },
  {
   "cell_type": "code",
   "execution_count": 13,
   "metadata": {
    "collapsed": false
   },
   "outputs": [
    {
     "data": {
      "text/html": [
       "<table><tr><td><b>Labeling function</b></td><td><b>Candidate coverage</b></td></tr><tr><td>LF_network_dp</td><td>0.10%</td></tr><tr><td>LF_dev_dp</td><td>0.21%</td></tr><tr><td>LF_express</td><td>0.78%</td></tr></table>"
      ],
      "text/plain": [
       "DictTable([('LF_network_dp', ['0.10%']),\n",
       "           ('LF_dev_dp', ['0.21%']),\n",
       "           ('LF_express', ['0.78%']),\n",
       "           ('LF_rna', ['0.89%']),\n",
       "           ('LF_protein', ['0.94%']),\n",
       "           ('LF_genotype_dp', ['0.99%']),\n",
       "           ('LF_mutant', ['1.25%']),\n",
       "           ('LF_snp', ['1.36%']),\n",
       "           ('LF_protein_dp', ['1.51%']),\n",
       "           ('LF_dna', ['1.98%']),\n",
       "           ('LF_NNP', ['10.74%']),\n",
       "           ('LF_RRB', ['13.50%']),\n",
       "           ('LF_JJ', ['16.48%']),\n",
       "           ('LF_JJ_dp', ['2.61%']),\n",
       "           ('LF_IN', ['26.23%']),\n",
       "           ('LF_variant', ['3.18%']),\n",
       "           ('LF_LRB', ['4.59%']),\n",
       "           ('LF_mutation', ['4.90%']),\n",
       "           ('LF_gene_dp', ['5.84%']),\n",
       "           ('LF_gene', ['8.86%'])])"
      ]
     },
     "execution_count": 13,
     "metadata": {},
     "output_type": "execute_result"
    }
   ],
   "source": [
    "DDL.lowest_coverage_lfs(n=3)"
   ]
  },
  {
   "cell_type": "code",
   "execution_count": 14,
   "metadata": {
    "collapsed": false,
    "scrolled": false
   },
   "outputs": [
    {
     "name": "stderr",
     "output_type": "stream",
     "text": [
      "../ddlite.py:562: UserWarning: Dev sets are too small for reliable estimates\n",
      "  warnings.warn(\"Dev sets are too small for reliable estimates\")\n"
     ]
    },
    {
     "name": "stdout",
     "output_type": "stream",
     "text": [
      "100% accuracy and 0 generalization score are \"perfect\"\n"
     ]
    },
    {
     "data": {
      "text/html": [
       "<table style=\"margin-right: 1%;float: left\"><tr><td><b>Labeling function</b></td><td><b>Positive accuracy</b></td><td><b>Gen. score</b></td></tr><tr><td>LF_mutant</td><td>0.00% (n=0)</td><td>0.00 (n=0)</td></tr><tr><td>LF_express</td><td>0.00% (n=0)</td><td>0.00 (n=0)</td></tr><tr><td>LF_IN</td><td>50.00% (n=10)</td><td>0.50 (n=1)</td></tr><tr><td>LF_JJ</td><td>60.00% (n=5)</td><td>0.27 (n=3)</td></tr><tr><td>LF_gene</td><td>100.00% (n=3)</td><td>0.00 (n=1)</td></tr><tr><td>LF_variant</td><td>100.00% (n=2)</td><td>0.00 (n=1)</td></tr><tr><td>LF_mutation</td><td>100.00% (n=2)</td><td>1.00 (n=0)</td></tr><tr><td>LF_gene_dp</td><td>100.00% (n=2)</td><td>0.00 (n=1)</td></tr><tr><td>LF_genotype_dp</td><td>100.00% (n=2)</td><td>0.00 (n=1)</td></tr></table><table style=\"float: left\"><tr><td><b>Labeling function</b></td><td><b>Negative accuracy</b></td><td><b>Gen. score</b></td></tr><tr><td>LF_JJ_dp</td><td>0.00% (n=0)</td><td>1.00 (n=1)</td></tr><tr><td>LF_network_dp</td><td>0.00% (n=0)</td><td>0.00 (n=0)</td></tr><tr><td>LF_LRB</td><td>0.00% (n=0)</td><td>0.00 (n=0)</td></tr><tr><td>LF_rna</td><td>0.00% (n=0)</td><td>0.00 (n=0)</td></tr><tr><td>LF_RRB</td><td>66.67% (n=3)</td><td>0.33 (n=2)</td></tr><tr><td>LF_snp</td><td>100.00% (n=1)</td><td>1.00 (n=0)</td></tr><tr><td>LF_dev_dp</td><td>100.00% (n=1)</td><td>1.00 (n=0)</td></tr><tr><td>LF_dna</td><td>100.00% (n=1)</td><td>1.00 (n=0)</td></tr><tr><td>LF_protein_dp</td><td>100.00% (n=1)</td><td>1.00 (n=0)</td></tr><tr><td>LF_NNP</td><td>100.00% (n=4)</td><td>0.00 (n=1)</td></tr></table>"
      ],
      "text/plain": [
       "<ddlite.SideTables instance at 0x7f4c4f71a2d8>"
      ]
     },
     "execution_count": 14,
     "metadata": {},
     "output_type": "execute_result"
    }
   ],
   "source": [
    "DDL.lowest_empirical_accuracy_lfs(n=10)"
   ]
  },
  {
   "cell_type": "code",
   "execution_count": 15,
   "metadata": {
    "collapsed": false
   },
   "outputs": [
    {
     "data": {
      "text/html": [
       "<table><tr><td><b>Labeling<br />function</b></td><td><b>Label<br />type</b></td><td><b>Candidate<br />coverage</b></td><td><b>Candidate<br />conflict</b></td><td><b>Positive<br />accuracy</b></td><td><b>Positive<br />gen. score</b></td><td><b>Negative<br />accuracy</b></td><td><b>Negative<br />gen. score</b></td></tr><tr><td><b><font color=\"#ee0b40\">LF_rna</font></b></td><td>Negative</td><td>0.89%</td><td>0.31%</td><td>N/A</td><td>N/A</td><td>0.00% (n=0)</td><td>0.00 (n=0)</td></tr><tr><td><b><font color=\"#ee0b40\">LF_dev_dp</font></b></td><td>Negative</td><td>0.21%</td><td>0.21%</td><td>N/A</td><td>N/A</td><td>100.00% (n=1)</td><td>1.00 (n=0)</td></tr><tr><td><b><font color=\"#ee0b40\">LF_protein</font></b></td><td>Negative</td><td>0.94%</td><td>0.21%</td><td>N/A</td><td>N/A</td><td>100.00% (n=1)</td><td>1.00 (n=0)</td></tr><tr><td><b><font color=\"#ee0b40\">LF_NNP</font></b></td><td>Negative</td><td>10.74%</td><td>6.52%</td><td>N/A</td><td>N/A</td><td>100.00% (n=4)</td><td>0.00 (n=1)</td></tr><tr><td><b><font color=\"#ee0b40\">LF_LRB</font></b></td><td>Negative</td><td>4.59%</td><td>2.45%</td><td>N/A</td><td>N/A</td><td>0.00% (n=0)</td><td>0.00 (n=0)</td></tr><tr><td><b><font color=\"#ee0b40\">LF_JJ_dp</font></b></td><td>Negative</td><td>2.61%</td><td>1.46%</td><td>N/A</td><td>N/A</td><td>0.00% (n=0)</td><td>1.00 (n=1)</td></tr><tr><td><b><font color=\"#ee0b40\">LF_protein_dp</font></b></td><td>Negative</td><td>1.51%</td><td>0.63%</td><td>N/A</td><td>N/A</td><td>100.00% (n=1)</td><td>1.00 (n=0)</td></tr><tr><td><b><font color=\"#ee0b40\">LF_network_dp</font></b></td><td>Negative</td><td>0.10%</td><td>0.00%</td><td>N/A</td><td>N/A</td><td>0.00% (n=0)</td><td>0.00 (n=0)</td></tr><tr><td><b><font color=\"#ee0b40\">LF_RRB</font></b></td><td>Negative</td><td>13.50%</td><td>3.49%</td><td>N/A</td><td>N/A</td><td>66.67% (n=3)</td><td>0.33 (n=2)</td></tr><tr><td><b><font color=\"#ee0b40\">LF_snp</font></b></td><td>Negative</td><td>1.36%</td><td>0.36%</td><td>N/A</td><td>N/A</td><td>100.00% (n=1)</td><td>1.00 (n=0)</td></tr><tr><td><b><font color=\"#ee0b40\">LF_dna</font></b></td><td>Negative</td><td>1.98%</td><td>0.63%</td><td>N/A</td><td>N/A</td><td>100.00% (n=1)</td><td>1.00 (n=0)</td></tr><tr><td><b><font color=\"#0099ff\">LF_express</font></b></td><td>Positive</td><td>0.78%</td><td>0.31%</td><td>0.00% (n=0)</td><td>0.00 (n=0)</td><td>N/A</td><td>N/A</td></tr><tr><td><b><font color=\"#0099ff\">LF_variant</font></b></td><td>Positive</td><td>3.18%</td><td>0.52%</td><td>100.00% (n=2)</td><td>0.00 (n=1)</td><td>N/A</td><td>N/A</td></tr><tr><td><b><font color=\"#0099ff\">LF_IN</font></b></td><td>Positive</td><td>26.23%</td><td>7.98%</td><td>50.00% (n=10)</td><td>0.50 (n=1)</td><td>N/A</td><td>N/A</td></tr><tr><td><b><font color=\"#0099ff\">LF_mutation</font></b></td><td>Positive</td><td>4.90%</td><td>0.99%</td><td>100.00% (n=2)</td><td>1.00 (n=0)</td><td>N/A</td><td>N/A</td></tr><tr><td><b><font color=\"#0099ff\">LF_gene_dp</font></b></td><td>Positive</td><td>5.84%</td><td>1.15%</td><td>100.00% (n=2)</td><td>0.00 (n=1)</td><td>N/A</td><td>N/A</td></tr><tr><td><b><font color=\"#0099ff\">LF_genotype_dp</font></b></td><td>Positive</td><td>0.99%</td><td>0.10%</td><td>100.00% (n=2)</td><td>0.00 (n=1)</td><td>N/A</td><td>N/A</td></tr><tr><td><b><font color=\"#0099ff\">LF_JJ</font></b></td><td>Positive</td><td>16.48%</td><td>5.27%</td><td>60.00% (n=5)</td><td>0.27 (n=3)</td><td>N/A</td><td>N/A</td></tr><tr><td><b><font color=\"#0099ff\">LF_gene</font></b></td><td>Positive</td><td>8.86%</td><td>2.76%</td><td>100.00% (n=3)</td><td>0.00 (n=1)</td><td>N/A</td><td>N/A</td></tr><tr><td><b><font color=\"#0099ff\">LF_mutant</font></b></td><td>Positive</td><td>1.25%</td><td>0.57%</td><td>0.00% (n=0)</td><td>0.00 (n=0)</td><td>N/A</td><td>N/A</td></tr></table>"
      ],
      "text/plain": [
       "DictTable([('<b><font color=\"#ee0b40\">LF_rna</font></b>',\n",
       "            ['Negative',\n",
       "             '0.89%',\n",
       "             '0.31%',\n",
       "             'N/A',\n",
       "             'N/A',\n",
       "             '0.00% (n=0)',\n",
       "             '0.00 (n=0)']),\n",
       "           ('<b><font color=\"#ee0b40\">LF_dev_dp</font></b>',\n",
       "            ['Negative',\n",
       "             '0.21%',\n",
       "             '0.21%',\n",
       "             'N/A',\n",
       "             'N/A',\n",
       "             '100.00% (n=1)',\n",
       "             '1.00 (n=0)']),\n",
       "           ('<b><font color=\"#ee0b40\">LF_protein</font></b>',\n",
       "            ['Negative',\n",
       "             '0.94%',\n",
       "             '0.21%',\n",
       "             'N/A',\n",
       "             'N/A',\n",
       "             '100.00% (n=1)',\n",
       "             '1.00 (n=0)']),\n",
       "           ('<b><font color=\"#ee0b40\">LF_NNP</font></b>',\n",
       "            ['Negative',\n",
       "             '10.74%',\n",
       "             '6.52%',\n",
       "             'N/A',\n",
       "             'N/A',\n",
       "             '100.00% (n=4)',\n",
       "             '0.00 (n=1)']),\n",
       "           ('<b><font color=\"#ee0b40\">LF_LRB</font></b>',\n",
       "            ['Negative',\n",
       "             '4.59%',\n",
       "             '2.45%',\n",
       "             'N/A',\n",
       "             'N/A',\n",
       "             '0.00% (n=0)',\n",
       "             '0.00 (n=0)']),\n",
       "           ('<b><font color=\"#ee0b40\">LF_JJ_dp</font></b>',\n",
       "            ['Negative',\n",
       "             '2.61%',\n",
       "             '1.46%',\n",
       "             'N/A',\n",
       "             'N/A',\n",
       "             '0.00% (n=0)',\n",
       "             '1.00 (n=1)']),\n",
       "           ('<b><font color=\"#ee0b40\">LF_protein_dp</font></b>',\n",
       "            ['Negative',\n",
       "             '1.51%',\n",
       "             '0.63%',\n",
       "             'N/A',\n",
       "             'N/A',\n",
       "             '100.00% (n=1)',\n",
       "             '1.00 (n=0)']),\n",
       "           ('<b><font color=\"#ee0b40\">LF_network_dp</font></b>',\n",
       "            ['Negative',\n",
       "             '0.10%',\n",
       "             '0.00%',\n",
       "             'N/A',\n",
       "             'N/A',\n",
       "             '0.00% (n=0)',\n",
       "             '0.00 (n=0)']),\n",
       "           ('<b><font color=\"#ee0b40\">LF_RRB</font></b>',\n",
       "            ['Negative',\n",
       "             '13.50%',\n",
       "             '3.49%',\n",
       "             'N/A',\n",
       "             'N/A',\n",
       "             '66.67% (n=3)',\n",
       "             '0.33 (n=2)']),\n",
       "           ('<b><font color=\"#ee0b40\">LF_snp</font></b>',\n",
       "            ['Negative',\n",
       "             '1.36%',\n",
       "             '0.36%',\n",
       "             'N/A',\n",
       "             'N/A',\n",
       "             '100.00% (n=1)',\n",
       "             '1.00 (n=0)']),\n",
       "           ('<b><font color=\"#ee0b40\">LF_dna</font></b>',\n",
       "            ['Negative',\n",
       "             '1.98%',\n",
       "             '0.63%',\n",
       "             'N/A',\n",
       "             'N/A',\n",
       "             '100.00% (n=1)',\n",
       "             '1.00 (n=0)']),\n",
       "           ('<b><font color=\"#0099ff\">LF_express</font></b>',\n",
       "            ['Positive',\n",
       "             '0.78%',\n",
       "             '0.31%',\n",
       "             '0.00% (n=0)',\n",
       "             '0.00 (n=0)',\n",
       "             'N/A',\n",
       "             'N/A']),\n",
       "           ('<b><font color=\"#0099ff\">LF_variant</font></b>',\n",
       "            ['Positive',\n",
       "             '3.18%',\n",
       "             '0.52%',\n",
       "             '100.00% (n=2)',\n",
       "             '0.00 (n=1)',\n",
       "             'N/A',\n",
       "             'N/A']),\n",
       "           ('<b><font color=\"#0099ff\">LF_IN</font></b>',\n",
       "            ['Positive',\n",
       "             '26.23%',\n",
       "             '7.98%',\n",
       "             '50.00% (n=10)',\n",
       "             '0.50 (n=1)',\n",
       "             'N/A',\n",
       "             'N/A']),\n",
       "           ('<b><font color=\"#0099ff\">LF_mutation</font></b>',\n",
       "            ['Positive',\n",
       "             '4.90%',\n",
       "             '0.99%',\n",
       "             '100.00% (n=2)',\n",
       "             '1.00 (n=0)',\n",
       "             'N/A',\n",
       "             'N/A']),\n",
       "           ('<b><font color=\"#0099ff\">LF_gene_dp</font></b>',\n",
       "            ['Positive',\n",
       "             '5.84%',\n",
       "             '1.15%',\n",
       "             '100.00% (n=2)',\n",
       "             '0.00 (n=1)',\n",
       "             'N/A',\n",
       "             'N/A']),\n",
       "           ('<b><font color=\"#0099ff\">LF_genotype_dp</font></b>',\n",
       "            ['Positive',\n",
       "             '0.99%',\n",
       "             '0.10%',\n",
       "             '100.00% (n=2)',\n",
       "             '0.00 (n=1)',\n",
       "             'N/A',\n",
       "             'N/A']),\n",
       "           ('<b><font color=\"#0099ff\">LF_JJ</font></b>',\n",
       "            ['Positive',\n",
       "             '16.48%',\n",
       "             '5.27%',\n",
       "             '60.00% (n=5)',\n",
       "             '0.27 (n=3)',\n",
       "             'N/A',\n",
       "             'N/A']),\n",
       "           ('<b><font color=\"#0099ff\">LF_gene</font></b>',\n",
       "            ['Positive',\n",
       "             '8.86%',\n",
       "             '2.76%',\n",
       "             '100.00% (n=3)',\n",
       "             '0.00 (n=1)',\n",
       "             'N/A',\n",
       "             'N/A']),\n",
       "           ('<b><font color=\"#0099ff\">LF_mutant</font></b>',\n",
       "            ['Positive',\n",
       "             '1.25%',\n",
       "             '0.57%',\n",
       "             '0.00% (n=0)',\n",
       "             '0.00 (n=0)',\n",
       "             'N/A',\n",
       "             'N/A'])])"
      ]
     },
     "execution_count": 15,
     "metadata": {},
     "output_type": "execute_result"
    }
   ],
   "source": [
    "DDL.lf_summary_table()"
   ]
  },
  {
   "cell_type": "markdown",
   "metadata": {},
   "source": [
    "Since our development set is small, we can't evaluate LF performance particularly well. If we observe LFs with very low accuracy, poor generalization, and a sufficiently large sample size, this could be an indication that the LF is buggy."
   ]
  },
  {
   "cell_type": "markdown",
   "metadata": {},
   "source": [
    "## Learning\n",
    "To learn weights for the features and LFs, we use a simple, regularized logistic regression model. Again, the results won't be meaningful without more LFs. We'll tell ddlite to log the results and print out a summary table"
   ]
  },
  {
   "cell_type": "code",
   "execution_count": 16,
   "metadata": {
    "collapsed": false,
    "scrolled": false
   },
   "outputs": [
    {
     "name": "stdout",
     "output_type": "stream",
     "text": [
      "Begin training for mu = 1e-05\n",
      "\tLearning epoch = 0\tGradient mag. = 0.016884\n",
      "\tLearning epoch = 100\tGradient mag. = 0.018239\n",
      "\tLearning epoch = 200\tGradient mag. = 0.018416\n",
      "\tLearning epoch = 300\tGradient mag. = 0.018481\n",
      "\tLearning epoch = 400\tGradient mag. = 0.018505\n",
      "Final gradient magnitude for mu=0.000: 0.019\n",
      "Begin training for mu = 0.001\n",
      "\tLearning epoch = 0\tGradient mag. = 0.016884\n",
      "\tLearning epoch = 100\tGradient mag. = 0.018146\n",
      "\tLearning epoch = 200\tGradient mag. = 0.018287\n",
      "\tLearning epoch = 300\tGradient mag. = 0.018340\n",
      "\tLearning epoch = 400\tGradient mag. = 0.018359\n",
      "Final gradient magnitude for mu=0.001: 0.018\n",
      "Begin training for mu = 0.1\n",
      "\tLearning epoch = 0\tGradient mag. = 0.016884\n",
      "\tLearning epoch = 100\tGradient mag. = 0.017022\n",
      "\tLearning epoch = 200\tGradient mag. = 0.016745\n",
      "\tLearning epoch = 300\tGradient mag. = 0.016643\n",
      "\tLearning epoch = 400\tGradient mag. = 0.016606\n",
      "Final gradient magnitude for mu=0.100: 0.017\n"
     ]
    },
    {
     "data": {
      "image/png": "[encoded data removed]",
      "text/plain": [
       "<matplotlib.figure.Figure at 0x7f4c4ff2da50>"
      ]
     },
     "metadata": {},
     "output_type": "display_data"
    },
    {
     "name": "stdout",
     "output_type": "stream",
     "text": [
      "CPU times: user 8.31 s, sys: 96 ms, total: 8.4 s\n",
      "Wall time: 15.2 s\n"
     ]
    },
    {
     "data": {
      "text/html": [
       "<table><tr><td><b>ID</b></td><td><b># LFs</b></td><td><b>Test set size</b></td><td><b>Use LFs</b></td><td><b>Model</b></td><td><b>Precision</b></td><td><b>Recall</b></td><td><b>F1</b></td></tr><tr><td>0</td><td>20</td><td>25</td><td>True</td><td>Joint</td><td>0.750</td><td>1.000</td><td>0.857</td></tr></table><table><tr><td><b>LF</b></td></tr><tr><td>LF_JJ</td></tr><tr><td>LF_JJ_dp</td></tr><tr><td>LF_NNP</td></tr><tr><td>LF_RRB</td></tr><tr><td>LF_dev_dp</td></tr><tr><td>LF_dna</td></tr><tr><td>LF_express</td></tr><tr><td>LF_gene</td></tr><tr><td>LF_gene_dp</td></tr><tr><td>LF_genotype_dp</td></tr><tr><td>LF_mutant</td></tr><tr><td>LF_mutation</td></tr><tr><td>LF_network_dp</td></tr><tr><td>LF_protein</td></tr><tr><td>LF_protein_dp</td></tr><tr><td>LF_rna</td></tr><tr><td>LF_snp</td></tr><tr><td>LF_variant</td></tr><tr><td>LF_IN</td></tr><tr><td>LF_LRB</td></tr></table>"
      ],
      "text/plain": [
       "<ddlite.ModelLog instance at 0x7f4c4f98f1b8>"
      ]
     },
     "execution_count": 16,
     "metadata": {},
     "output_type": "execute_result"
    }
   ],
   "source": [
    "matplotlib.rcParams['figure.figsize'] = (12,4)\n",
    "mu_seq = np.ravel([1e-5, 1e-3, 1e-1])\n",
    "DDL.set_use_lfs(True)\n",
    "%time DDL.learn_weights(sample=False, n_iter=500, alpha=0.5, mu=mu_seq,\\\n",
    "                        bias=True, verbose=True, log=True)"
   ]
  },
  {
   "cell_type": "markdown",
   "metadata": {},
   "source": [
    "We can use [DeepDive-style calibration plots](http://deepdive.stanford.edu/calibration) to evaluate the quality of our predictions."
   ]
  },
  {
   "cell_type": "code",
   "execution_count": 17,
   "metadata": {
    "collapsed": false
   },
   "outputs": [
    {
     "name": "stderr",
     "output_type": "stream",
     "text": [
      "/home/henry/anaconda2/lib/python2.7/site-packages/numpy/core/_methods.py:59: RuntimeWarning: Mean of empty slice.\n",
      "  warnings.warn(\"Mean of empty slice.\", RuntimeWarning)\n",
      "/home/henry/anaconda2/lib/python2.7/site-packages/numpy/core/_methods.py:70: RuntimeWarning: invalid value encountered in double_scalars\n",
      "  ret = ret.dtype.type(ret / rcount)\n"
     ]
    },
    {
     "data": {
      "image/png": "[encoded data removed]",
      "text/plain": [
       "<matplotlib.figure.Figure at 0x7f4c50308f90>"
      ]
     },
     "metadata": {},
     "output_type": "display_data"
    }
   ],
   "source": [
    "DDL.plot_calibration()"
   ]
  },
  {
   "cell_type": "markdown",
   "metadata": {},
   "source": [
    "## Iterating with labeling functions\n",
    "After analyzing our LFs and obtaining model results, we can revise our LF set. We can see all of the results thus far, and reopen MindTagger to see some mentions that aren't currently covered by LFs."
   ]
  },
  {
   "cell_type": "code",
   "execution_count": 18,
   "metadata": {
    "collapsed": false
   },
   "outputs": [
    {
     "data": {
      "text/html": [
       "<table><tr><td><b>ID</b></td><td><b># LFs</b></td><td><b>Test set size</b></td><td><b>Use LFs</b></td><td><b>Model</b></td><td><b>Precision</b></td><td><b>Recall</b></td><td><b>F1</b></td></tr><tr><td>0</td><td>20</td><td>25</td><td>True</td><td>Joint</td><td>0.750</td><td>1.000</td><td>0.857</td></tr></table>"
      ],
      "text/plain": [
       "<ddlite.ModelLogger instance at 0x7f4c5136e290>"
      ]
     },
     "execution_count": 18,
     "metadata": {},
     "output_type": "execute_result"
    }
   ],
   "source": [
    "DDL.show_log()"
   ]
  },
  {
   "cell_type": "code",
   "execution_count": 19,
   "metadata": {
    "collapsed": false
   },
   "outputs": [
    {
     "name": "stdout",
     "output_type": "stream",
     "text": [
      "Making sure MindTagger is installed. Hang on!\n"
     ]
    },
    {
     "data": {
      "text/html": [
       "\n",
       "        <iframe\n",
       "            width=\"100%\"\n",
       "            height=\"1200\"\n",
       "            src=\"http://henry-ddlite-dev:8855/#/mindtagger/c6577ee8c6366a70\"\n",
       "            frameborder=\"0\"\n",
       "            allowfullscreen\n",
       "        ></iframe>\n",
       "        "
      ],
      "text/plain": [
       "<IPython.lib.display.IFrame at 0x7f4c4ffdbfd0>"
      ]
     },
     "execution_count": 19,
     "metadata": {},
     "output_type": "execute_result"
    }
   ],
   "source": [
    "DDL.open_mindtagger(width='100%', height=1200, abstain=True)"
   ]
  }
 ],
 "metadata": {
  "kernelspec": {
   "display_name": "Python 2",
   "language": "python",
   "name": "python2"
  },
  "language_info": {
   "codemirror_mode": {
    "name": "ipython",
    "version": 2
   },
   "file_extension": ".py",
   "mimetype": "text/x-python",
   "name": "python",
   "nbconvert_exporter": "python",
   "pygments_lexer": "ipython2",
   "version": "2.7.6"
  }
 },
 "nbformat": 4,
 "nbformat_minor": 0
}
